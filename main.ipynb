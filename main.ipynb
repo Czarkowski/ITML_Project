{
 "cells": [
  {
   "cell_type": "code",
   "execution_count": 33,
   "metadata": {},
   "outputs": [],
   "source": [
    "import cv2\n",
    "import os\n",
    "import re\n",
    "import numpy as np\n",
    "import pandas as pd\n",
    "from sklearn.model_selection import train_test_split\n",
    "from sklearn.preprocessing import LabelEncoder"
   ]
  },
  {
   "cell_type": "code",
   "execution_count": 17,
   "metadata": {},
   "outputs": [],
   "source": [
    "main_data_folder = 'data/stanford_cars_type'\n",
    "\n",
    "images = []\n",
    "labels = []\n",
    "name = []\n",
    "\n",
    "for label in os.listdir(main_data_folder):\n",
    "    label_folder = os.path.join(main_data_folder, label)\n",
    "    \n",
    "    for image_file in os.listdir(label_folder):\n",
    "        image_path = os.path.join(label_folder, image_file)\n",
    "        \n",
    "        image = cv2.imread(image_path)\n",
    "        image = cv2.cvtColor(image, cv2.COLOR_BGR2RGB)  # Opcjonalne: Zmiana kanałów kolorów\n",
    "\n",
    "        images.append(image)\n",
    "        labels.append(label)\n",
    "        name.append(image_file)\n",
    "    \n",
    "\n",
    "\n",
    "label_encoder = LabelEncoder()\n",
    "labels_encoded = label_encoder.fit_transform(labels)\n"
   ]
  },
  {
   "cell_type": "code",
   "execution_count": 54,
   "metadata": {},
   "outputs": [
    {
     "name": "stdout",
     "output_type": "stream",
     "text": [
      "8144   8144\n",
      "(8144,)   (3, 255, 255, 8144)\n"
     ]
    },
    {
     "ename": "ValueError",
     "evalue": "all the input arrays must have same number of dimensions, but the array at index 0 has 2 dimension(s) and the array at index 1 has 4 dimension(s)",
     "output_type": "error",
     "traceback": [
      "\u001b[1;31m---------------------------------------------------------------------------\u001b[0m",
      "\u001b[1;31mValueError\u001b[0m                                Traceback (most recent call last)",
      "\u001b[1;32me:\\ProgramingUTP\\WDUM_Projekt\\main.ipynb Cell 3\u001b[0m line \u001b[0;36m5\n\u001b[0;32m      <a href='vscode-notebook-cell:/e%3A/ProgramingUTP/WDUM_Projekt/main.ipynb#W2sZmlsZQ%3D%3D?line=1'>2</a>\u001b[0m np_images \u001b[39m=\u001b[39m np\u001b[39m.\u001b[39marray(images)\n\u001b[0;32m      <a href='vscode-notebook-cell:/e%3A/ProgramingUTP/WDUM_Projekt/main.ipynb#W2sZmlsZQ%3D%3D?line=2'>3</a>\u001b[0m \u001b[39mprint\u001b[39m(\u001b[39mf\u001b[39m\u001b[39m'\u001b[39m\u001b[39m{\u001b[39;00mlabels_encoded\u001b[39m.\u001b[39mT\u001b[39m.\u001b[39mshape\u001b[39m}\u001b[39;00m\u001b[39m   \u001b[39m\u001b[39m{\u001b[39;00mnp_images\u001b[39m.\u001b[39mT\u001b[39m.\u001b[39mshape\u001b[39m}\u001b[39;00m\u001b[39m'\u001b[39m)\n\u001b[1;32m----> <a href='vscode-notebook-cell:/e%3A/ProgramingUTP/WDUM_Projekt/main.ipynb#W2sZmlsZQ%3D%3D?line=4'>5</a>\u001b[0m concatenated_array \u001b[39m=\u001b[39m np\u001b[39m.\u001b[39;49mvstack((labels_encoded, np_images))\u001b[39m.\u001b[39mT\n\u001b[0;32m      <a href='vscode-notebook-cell:/e%3A/ProgramingUTP/WDUM_Projekt/main.ipynb#W2sZmlsZQ%3D%3D?line=5'>6</a>\u001b[0m \u001b[39mprint\u001b[39m(\u001b[39mf\u001b[39m\u001b[39m'\u001b[39m\u001b[39m{\u001b[39;00mconcatenated_array\u001b[39m.\u001b[39mshape\u001b[39m}\u001b[39;00m\u001b[39m'\u001b[39m)\n",
      "File \u001b[1;32m<__array_function__ internals>:180\u001b[0m, in \u001b[0;36mvstack\u001b[1;34m(*args, **kwargs)\u001b[0m\n",
      "File \u001b[1;32mc:\\Users\\Cezary\\AppData\\Local\\Programs\\Python\\Python310\\lib\\site-packages\\numpy\\core\\shape_base.py:282\u001b[0m, in \u001b[0;36mvstack\u001b[1;34m(tup)\u001b[0m\n\u001b[0;32m    280\u001b[0m \u001b[39mif\u001b[39;00m \u001b[39mnot\u001b[39;00m \u001b[39misinstance\u001b[39m(arrs, \u001b[39mlist\u001b[39m):\n\u001b[0;32m    281\u001b[0m     arrs \u001b[39m=\u001b[39m [arrs]\n\u001b[1;32m--> 282\u001b[0m \u001b[39mreturn\u001b[39;00m _nx\u001b[39m.\u001b[39;49mconcatenate(arrs, \u001b[39m0\u001b[39;49m)\n",
      "File \u001b[1;32m<__array_function__ internals>:180\u001b[0m, in \u001b[0;36mconcatenate\u001b[1;34m(*args, **kwargs)\u001b[0m\n",
      "\u001b[1;31mValueError\u001b[0m: all the input arrays must have same number of dimensions, but the array at index 0 has 2 dimension(s) and the array at index 1 has 4 dimension(s)"
     ]
    }
   ],
   "source": [
    "print(f'{labels_encoded.size}   {len(images)}')\n",
    "np_images = np.array(images)\n",
    "print(f'{labels_encoded.T.shape}   {np_images.T.shape}')\n",
    "\n",
    "concatenated_array = np.vstack((labels_encoded, np_images)).T\n",
    "print(f'{concatenated_array.shape}')\n"
   ]
  },
  {
   "cell_type": "code",
   "execution_count": 46,
   "metadata": {},
   "outputs": [],
   "source": [
    "main_data_folder = 'data/stanford_cars_type'\n",
    "\n",
    "# Ścieżka do folderu, w którym zostaną zapisane przetworzone zdjęcia\n",
    "output_folder = 'data/processed'\n",
    "\n",
    "# Nowy wymiar obrazu\n",
    "new_size = (255, 255)\n",
    "\n",
    "# Przetwarzanie i zapis przetworzonych zdjęć\n",
    "for label in os.listdir(main_data_folder):\n",
    "    label_folder = os.path.join(main_data_folder, label)\n",
    "    \n",
    "    for image_file in os.listdir(label_folder):\n",
    "        image_path = os.path.join(label_folder, image_file)\n",
    "\n",
    "        # Wyodrębnij tylko cyfry z początku nazwy\n",
    "        numeric_prefix = re.match(r'^\\d+', image_file).group()\n",
    "\n",
    "        # Wczytaj obraz za pomocą OpenCV\n",
    "        image = cv2.imread(image_path)\n",
    "\n",
    "        # Przeskaluj obraz do nowego wymiaru (255x255) i zamień na skalę szarości\n",
    "        image = cv2.resize(image, new_size)\n",
    "        image = cv2.cvtColor(image, cv2.COLOR_BGR2GRAY)\n",
    "\n",
    "        # Nazwa nowego pliku\n",
    "        new_filename = f'{numeric_prefix}.jpg'\n",
    "        new_image_path = os.path.join(output_folder, new_filename)\n",
    "\n",
    "        # Zapisz przetworzony obraz\n",
    "        cv2.imwrite(new_image_path, image)"
   ]
  },
  {
   "cell_type": "code",
   "execution_count": 55,
   "metadata": {},
   "outputs": [],
   "source": [
    "csv_file = 'data/stanford_cars_type.csv'\n",
    "img_folder = 'data/processed'\n",
    "data_csv = pd.read_csv(csv_file)\n",
    "images_tab = []\n",
    "labels_string = []\n",
    "\n",
    "for index, row in data_csv.iterrows():\n",
    "    filename = row['file_name']\n",
    "    category = row['car_type']\n",
    "\n",
    "    image_path = os.path.join(img_folder, filename)\n",
    "\n",
    "    image = cv2.imread(image_path, cv2.IMREAD_GRAYSCALE)\n",
    "    image = image / 255.0\n",
    "    images_tab.append(image)\n",
    "    labels_string.append(category)\n",
    "\n",
    "label_encoder = LabelEncoder()\n",
    "labels = label_encoder.fit_transform(labels_string)\n",
    "images = np.array(images_tab)"
   ]
  },
  {
   "cell_type": "code",
   "execution_count": 57,
   "metadata": {},
   "outputs": [
    {
     "name": "stdout",
     "output_type": "stream",
     "text": [
      "(8144,)   (8144, 255, 255)\n"
     ]
    }
   ],
   "source": [
    "print(f'{labels.shape}   {images.shape}')\n"
   ]
  }
 ],
 "metadata": {
  "kernelspec": {
   "display_name": "Python 3",
   "language": "python",
   "name": "python3"
  },
  "language_info": {
   "codemirror_mode": {
    "name": "ipython",
    "version": 3
   },
   "file_extension": ".py",
   "mimetype": "text/x-python",
   "name": "python",
   "nbconvert_exporter": "python",
   "pygments_lexer": "ipython3",
   "version": "3.10.10"
  }
 },
 "nbformat": 4,
 "nbformat_minor": 2
}
